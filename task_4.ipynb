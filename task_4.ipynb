def offise_map(steps, path):
    """
We knows amount of steps and the direction of each steps.
steps: int
path: str , include onle capital letter D (down), U (up), L and R (left and right).
"""

    path = list(path)
    # reverse letter path in numerical moving
    hor = [0]
    vert = [0]
    for n in range(steps):
        if n==0:
            letter = path[n]
            if letter == "D":
                hor.append(-1)
                vert.append(vert[0])
            elif letter == "U":
                hor.append(1)
                vert.append(vert[0])
            elif letter == "R":
                vert.append(1)
                hor.append(vert[0])
            else:
                vert.append(-1)
                hor.append(vert[0])

        else:
            letter = path[n]
            if letter == "D":
                hor.append(-1)
                vert.append(vert[n-1])
            elif letter == "U":
                hor.append(1)
                vert.append(vert[n-1])
            elif letter == "R":
                vert.append(1)
                hor.append(vert[n-1])
            else:
                vert.append(-1)
                hor.append(vert[n-1])

    #get the list of moving for each step
    point_line = list(zip(hor, vert))  #list of moving
    result_line = [[0,0]]*steps        #mask for result point

    # calculationg of coordinates for each point after step
    for n, one in enumerate(point_line[1:],1):
        if n>0 and n <=steps-1:
            result_line[n] = [result_line[n-1][0] +one[0], result_line[n-1][1] +one[1]]

    #calculating number of equal (doubling) point
    # assumption is that we couldn't be in one point more when two times 
    
    if 2 in [result_line.count(x) for x in result_line]:
        print('YES')
    else:
        print('NO')
